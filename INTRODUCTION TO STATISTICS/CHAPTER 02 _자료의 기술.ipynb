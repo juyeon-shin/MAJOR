{
 "cells": [
  {
   "cell_type": "markdown",
   "id": "c37bf574",
   "metadata": {},
   "source": [
    "## CHAPTER 2 : 자료의 기술\n",
    "### 1. 서론\n",
    "### 2. 도수분포표와 그림"
   ]
  },
  {
   "cell_type": "code",
   "execution_count": 1,
   "id": "f03d88b4",
   "metadata": {},
   "outputs": [],
   "source": [
    "import matplotlib.pyplot as plt\n",
    "import seaborn as sns\n",
    "\n",
    "#원그림\n",
    "plt.pie()\n",
    "plt.title()\n",
    "plt.show()\n",
    "\n",
    "#도수분포표\n",
    "plt.bar()\n",
    "plt.title()\n",
    "plt.show()\n",
    "\n",
    "#히스토그램\n",
    "plt.hist()\n",
    "plt.title()\n",
    "plt.show()\n",
    "\n",
    "sns.histplot()"
   ]
  },
  {
   "cell_type": "markdown",
   "id": "2fa633ab",
   "metadata": {},
   "source": [
    "### 3. 대푯값"
   ]
  },
  {
   "cell_type": "code",
   "execution_count": null,
   "id": "2858c905",
   "metadata": {},
   "outputs": [],
   "source": [
    "a = [1,2,3,4,5]"
   ]
  },
  {
   "cell_type": "code",
   "execution_count": 11,
   "id": "7a6f0392",
   "metadata": {},
   "outputs": [
    {
     "name": "stdout",
     "output_type": "stream",
     "text": [
      "표본평균 :  3.0\n"
     ]
    },
    {
     "data": {
      "text/plain": [
       "3.0"
      ]
     },
     "execution_count": 11,
     "metadata": {},
     "output_type": "execute_result"
    }
   ],
   "source": [
    "#표본평균\n",
    "def Sample_mean(list):\n",
    "    mean = sum(list)/len(list)\n",
    "    return print('표본평균 : ',mean)\n",
    "\n",
    "Sample_mean(a)\n",
    "\n",
    "import numpy as np\n",
    "print(np.mean(a))"
   ]
  },
  {
   "cell_type": "code",
   "execution_count": 12,
   "id": "c3a35442",
   "metadata": {},
   "outputs": [
    {
     "name": "stdout",
     "output_type": "stream",
     "text": [
      "중앙값 :  3\n",
      "3.0\n"
     ]
    }
   ],
   "source": [
    "#중앙값\n",
    "def Median(list):\n",
    "    list = sorted(list)\n",
    "    if len(list)%2 == 1 :\n",
    "        q = len(list)/2+1\n",
    "        median = list[int(q-1)]\n",
    "    else :\n",
    "        q = len(list)/2\n",
    "        median = (list[int(q-1)] + list[int(q)])/2\n",
    "        \n",
    "    return print('중앙값 : ',median)\n",
    "\n",
    "Median(a)\n",
    "\n",
    "import numpy as np\n",
    "print(np.median(a))"
   ]
  },
  {
   "cell_type": "code",
   "execution_count": 7,
   "id": "fb38efd5",
   "metadata": {},
   "outputs": [
    {
     "name": "stdout",
     "output_type": "stream",
     "text": [
      "절삭평균 :  3.0\n"
     ]
    }
   ],
   "source": [
    "#절삭평균\n",
    "def Trimmed_mean(list):\n",
    "    list = sorted(list)\n",
    "    list = list[1:len(list)-1]\n",
    "    trimmed_mean = sum(list)/len(list)\n",
    "    return print('절삭평균 : ',trimmed_mean)\n",
    "\n",
    "Trimmed_mean(a)"
   ]
  },
  {
   "cell_type": "code",
   "execution_count": 24,
   "id": "e57db2e9",
   "metadata": {},
   "outputs": [
    {
     "data": {
      "text/plain": [
       "ModeResult(mode=array([1]), count=array([1]))"
      ]
     },
     "execution_count": 24,
     "metadata": {},
     "output_type": "execute_result"
    }
   ],
   "source": [
    "from scipy.stats import mode\n",
    "mode(a)"
   ]
  },
  {
   "cell_type": "markdown",
   "id": "c6b0bda9",
   "metadata": {},
   "source": [
    "### 4. 산포도"
   ]
  },
  {
   "cell_type": "code",
   "execution_count": 17,
   "id": "91af136d",
   "metadata": {},
   "outputs": [],
   "source": [
    "a = [1,2,3,4,5]"
   ]
  },
  {
   "cell_type": "code",
   "execution_count": 32,
   "id": "b62f5008",
   "metadata": {},
   "outputs": [
    {
     "name": "stdout",
     "output_type": "stream",
     "text": [
      "2.0\n"
     ]
    }
   ],
   "source": [
    "#분위수\n",
    "import numpy as np\n",
    "np.quantile(a, .5)\n",
    "\n",
    "#IQR = Q3 - Q1\n",
    "IQR = np.quantile(a,.75)-np.quantile(a,.25)\n",
    "print(IQR)"
   ]
  },
  {
   "cell_type": "code",
   "execution_count": 21,
   "id": "3d953752",
   "metadata": {},
   "outputs": [
    {
     "name": "stdout",
     "output_type": "stream",
     "text": [
      "2.5\n",
      "2.0\n"
     ]
    }
   ],
   "source": [
    "#표본변동(분산)\n",
    "def Var(list):\n",
    "    mean = sum(list)/len(list)\n",
    "    var = 0\n",
    "    for i in list :\n",
    "        var += (i-mean)**2\n",
    "    var = var * (1/(len(list)-1))\n",
    "    return print(var)\n",
    "\n",
    "Var(a)\n",
    "\n",
    "#모분산\n",
    "import numpy as np\n",
    "print(np.var(a))"
   ]
  },
  {
   "cell_type": "code",
   "execution_count": 24,
   "id": "ae44b834",
   "metadata": {},
   "outputs": [
    {
     "name": "stdout",
     "output_type": "stream",
     "text": [
      "1.5811388300841898\n",
      "1.4142135623730951\n"
     ]
    }
   ],
   "source": [
    "#표준 편차 : standard_deviation\n",
    "def Stand_dev(list):\n",
    "    mean = sum(list)/len(list)\n",
    "    var = 0\n",
    "    for i in list :\n",
    "        var += (i-mean)**2\n",
    "    var = var * (1/(len(list)-1))\n",
    "    standard_deviation = var**(0.5)\n",
    "    return print(standard_deviation)\n",
    "\n",
    "Stand_dev(a)\n",
    "\n",
    "#모표준편차\n",
    "import numpy as np\n",
    "print(np.std(a))"
   ]
  }
 ],
 "metadata": {
  "kernelspec": {
   "display_name": "Python 3 (ipykernel)",
   "language": "python",
   "name": "python3"
  },
  "language_info": {
   "codemirror_mode": {
    "name": "ipython",
    "version": 3
   },
   "file_extension": ".py",
   "mimetype": "text/x-python",
   "name": "python",
   "nbconvert_exporter": "python",
   "pygments_lexer": "ipython3",
   "version": "3.8.8"
  }
 },
 "nbformat": 4,
 "nbformat_minor": 5
}
