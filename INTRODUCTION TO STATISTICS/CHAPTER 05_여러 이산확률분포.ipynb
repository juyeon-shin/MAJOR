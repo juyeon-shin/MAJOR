{
 "cells": [
  {
   "cell_type": "markdown",
   "id": "382f275f",
   "metadata": {},
   "source": [
    "### CHAPTER 05_여러 이산확률분포"
   ]
  },
  {
   "cell_type": "code",
   "execution_count": 12,
   "id": "d1fc738b",
   "metadata": {},
   "outputs": [
    {
     "name": "stdout",
     "output_type": "stream",
     "text": [
      "0.3\n",
      "0.21\n",
      "0.8728715609439694\n",
      "-1.2380952380952381\n"
     ]
    }
   ],
   "source": [
    "#베르누이분포\n",
    "from scipy.stats import bernoulli\n",
    "import numpy as np\n",
    "\n",
    "p = 0.3\n",
    "mean, var, skew, kurt = bernoulli.stats(p, moments='mvsk') #평균, 분산, 왜도, 첨도 계산\n",
    "print(mean, var, skew, kurt,sep='\\n')"
   ]
  },
  {
   "cell_type": "code",
   "execution_count": 11,
   "id": "89238873",
   "metadata": {},
   "outputs": [
    {
     "name": "stdout",
     "output_type": "stream",
     "text": [
      "4.0\n",
      "2.4\n",
      "0.12909944487358052\n",
      "-0.1833333333333334\n"
     ]
    }
   ],
   "source": [
    "#이항분포\n",
    "from scipy.stats import binom\n",
    "\n",
    "n,p = 10,0.4\n",
    "mean, var, skew, kurt = binom.stats(n, p, moments='mvsk')\n",
    "print(mean, var, skew, kurt,sep='\\n')"
   ]
  },
  {
   "cell_type": "code",
   "execution_count": 13,
   "id": "9eae9b97",
   "metadata": {},
   "outputs": [
    {
     "name": "stdout",
     "output_type": "stream",
     "text": [
      "0.4\n",
      "0.4\n",
      "1.5811388300841898\n",
      "2.5\n"
     ]
    }
   ],
   "source": [
    "#포아송분포\n",
    "from scipy.stats import poisson\n",
    "\n",
    "mu = 0.4\n",
    "mean, var, skew, kurt = poisson.stats(mu, moments='mvsk')\n",
    "print(mean, var, skew, kurt,sep='\\n')"
   ]
  },
  {
   "cell_type": "markdown",
   "id": "31958d2e",
   "metadata": {},
   "source": [
    "from scipy.stats 의 method 공부 필요"
   ]
  }
 ],
 "metadata": {
  "kernelspec": {
   "display_name": "Python [conda env:root] *",
   "language": "python",
   "name": "conda-root-py"
  },
  "language_info": {
   "codemirror_mode": {
    "name": "ipython",
    "version": 3
   },
   "file_extension": ".py",
   "mimetype": "text/x-python",
   "name": "python",
   "nbconvert_exporter": "python",
   "pygments_lexer": "ipython3",
   "version": "3.8.8"
  }
 },
 "nbformat": 4,
 "nbformat_minor": 5
}
