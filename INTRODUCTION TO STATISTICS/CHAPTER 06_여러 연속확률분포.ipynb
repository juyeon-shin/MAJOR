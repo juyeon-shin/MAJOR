{
 "cells": [
  {
   "cell_type": "markdown",
   "id": "f9cfe03b",
   "metadata": {},
   "source": [
    "### CHAPTER 06_여러 연속확률분포"
   ]
  },
  {
   "cell_type": "code",
   "execution_count": null,
   "id": "b0670229",
   "metadata": {},
   "outputs": [],
   "source": [
    "#균일분포\n",
    "\n",
    "from scipy.stats import uniform\n",
    "mean, var, skew, kurt = uniform.stats(moments='mvsk')"
   ]
  },
  {
   "cell_type": "code",
   "execution_count": null,
   "id": "1de5db64",
   "metadata": {},
   "outputs": [],
   "source": [
    "#정규분포\n",
    "\n",
    "from scipy.stats import norm\n",
    "mean, var, skew, kurt = norm.stats(moments='mvsk')"
   ]
  },
  {
   "cell_type": "code",
   "execution_count": null,
   "id": "9293cd84",
   "metadata": {},
   "outputs": [],
   "source": []
  },
  {
   "cell_type": "code",
   "execution_count": null,
   "id": "e7fc31b6",
   "metadata": {},
   "outputs": [],
   "source": []
  }
 ],
 "metadata": {
  "kernelspec": {
   "display_name": "Python [conda env:root] *",
   "language": "python",
   "name": "conda-root-py"
  },
  "language_info": {
   "codemirror_mode": {
    "name": "ipython",
    "version": 3
   },
   "file_extension": ".py",
   "mimetype": "text/x-python",
   "name": "python",
   "nbconvert_exporter": "python",
   "pygments_lexer": "ipython3",
   "version": "3.8.8"
  }
 },
 "nbformat": 4,
 "nbformat_minor": 5
}
