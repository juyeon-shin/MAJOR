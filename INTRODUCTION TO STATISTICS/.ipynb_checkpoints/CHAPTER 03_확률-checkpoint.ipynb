{
 "cells": [
  {
   "cell_type": "markdown",
   "id": "c439a982",
   "metadata": {},
   "source": [
    "## CHAPTER 03 : 확률"
   ]
  },
  {
   "cell_type": "code",
   "execution_count": 1,
   "id": "4fcc5f78",
   "metadata": {},
   "outputs": [
    {
     "name": "stdout",
     "output_type": "stream",
     "text": [
      "0.5\n"
     ]
    }
   ],
   "source": [
    "# 수학적 확률\n",
    "N = 20\n",
    "A = 10\n",
    "P_A = A/N\n",
    "print(P_A)"
   ]
  },
  {
   "cell_type": "code",
   "execution_count": 2,
   "id": "da8c093a",
   "metadata": {},
   "outputs": [
    {
     "name": "stdout",
     "output_type": "stream",
     "text": [
      "0.5555555555555556 0.3333333333333333\n"
     ]
    }
   ],
   "source": [
    "# 집합 자료형 = set\n",
    "A = set([1,2,3,4,5])\n",
    "B = set([5,6,7])\n",
    "N = set([1,2,3,4,5,6,7,8,9])\n",
    "\n",
    "P_A = len(A)/len(N)\n",
    "P_B = len(B)/len(N)\n",
    "print(P_A,P_B)"
   ]
  },
  {
   "cell_type": "code",
   "execution_count": 3,
   "id": "72971542",
   "metadata": {},
   "outputs": [
    {
     "name": "stdout",
     "output_type": "stream",
     "text": [
      "0.7777777777777777\n"
     ]
    }
   ],
   "source": [
    "# 덧셈 법칙\n",
    "# P(A \\cup B) = P(A)+P(B) - P(A \\cap B) \n",
    "print(P_A + P_B - len(A.intersection(B))/len(N))"
   ]
  },
  {
   "cell_type": "code",
   "execution_count": 4,
   "id": "a454586f",
   "metadata": {},
   "outputs": [
    {
     "name": "stdout",
     "output_type": "stream",
     "text": [
      "0.19999999999999998\n"
     ]
    }
   ],
   "source": [
    "# 조건부 확률\n",
    "# P(B|A) = {P(A \\cap B) \\over P(A)} \n",
    "print((len(A.intersection(B))/len(N))/P_A)"
   ]
  },
  {
   "cell_type": "code",
   "execution_count": 5,
   "id": "912db52e",
   "metadata": {},
   "outputs": [
    {
     "name": "stdout",
     "output_type": "stream",
     "text": [
      "0.1111111111111111\n",
      "0.1111111111111111\n"
     ]
    }
   ],
   "source": [
    "# 곱셈 법칙\n",
    "# P(A \\cap B) = P(B|A) \\times P(A)\n",
    "print((len(A.intersection(B))/len(N))/P_A*P_A)\n",
    "print(len(A.intersection(B))/len(N))"
   ]
  },
  {
   "cell_type": "code",
   "execution_count": 6,
   "id": "d807453f",
   "metadata": {},
   "outputs": [],
   "source": [
    "# 전확률 공식\n",
    "# P(B) = P(B|A_i) \\times P(A_i) + ...       + P(B|A_k) \\times P(A_k) \n",
    "\n",
    "# 베이즈 정리\n",
    "# P(A_j|B) = { P(B|A_j) \\times P(A_j) \\over P(B|A_i) \\times P(A_i) + ...       + P(B|A_k) \\times P(A_k) }"
   ]
  },
  {
   "cell_type": "code",
   "execution_count": 7,
   "id": "48f74b61",
   "metadata": {},
   "outputs": [
    {
     "name": "stdout",
     "output_type": "stream",
     "text": [
      "0.12345679012345678\n"
     ]
    }
   ],
   "source": [
    "# 독립 사건\n",
    "A = set([1,2,3,4,5])\n",
    "B = set([6,7])\n",
    "N = set([1,2,3,4,5,6,7,8,9])\n",
    "\n",
    "P_A = len(A)/len(N)\n",
    "P_B = len(B)/len(N)\n",
    "\n",
    "print(P_A*P_B)"
   ]
  }
 ],
 "metadata": {
  "kernelspec": {
   "display_name": "Python [conda env:root] *",
   "language": "python",
   "name": "conda-root-py"
  },
  "language_info": {
   "codemirror_mode": {
    "name": "ipython",
    "version": 3
   },
   "file_extension": ".py",
   "mimetype": "text/x-python",
   "name": "python",
   "nbconvert_exporter": "python",
   "pygments_lexer": "ipython3",
   "version": "3.8.8"
  }
 },
 "nbformat": 4,
 "nbformat_minor": 5
}
