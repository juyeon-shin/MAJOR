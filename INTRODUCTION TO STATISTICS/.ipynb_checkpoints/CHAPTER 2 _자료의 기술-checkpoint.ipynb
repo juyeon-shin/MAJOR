{
 "cells": [
  {
   "cell_type": "markdown",
   "id": "c37bf574",
   "metadata": {},
   "source": [
    "## CHAPTER 2 : 자료의 기술\n",
    "### 1. 서론\n",
    "### 2. 도수분포표와 그림"
   ]
  },
  {
   "cell_type": "code",
   "execution_count": null,
   "id": "f03d88b4",
   "metadata": {},
   "outputs": [],
   "source": []
  },
  {
   "cell_type": "markdown",
   "id": "2fa633ab",
   "metadata": {},
   "source": [
    "### 3. 대푯값"
   ]
  },
  {
   "cell_type": "code",
   "execution_count": null,
   "id": "7a6f0392",
   "metadata": {},
   "outputs": [],
   "source": []
  }
 ],
 "metadata": {
  "kernelspec": {
   "display_name": "Python 3 (ipykernel)",
   "language": "python",
   "name": "python3"
  },
  "language_info": {
   "codemirror_mode": {
    "name": "ipython",
    "version": 3
   },
   "file_extension": ".py",
   "mimetype": "text/x-python",
   "name": "python",
   "nbconvert_exporter": "python",
   "pygments_lexer": "ipython3",
   "version": "3.8.8"
  }
 },
 "nbformat": 4,
 "nbformat_minor": 5
}
