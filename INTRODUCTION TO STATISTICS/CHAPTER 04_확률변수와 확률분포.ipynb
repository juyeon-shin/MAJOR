{
 "cells": [
  {
   "cell_type": "markdown",
   "id": "4fcb59c8",
   "metadata": {},
   "source": [
    "### CHAPTER 04_확률변수와 확률분포"
   ]
  },
  {
   "cell_type": "markdown",
   "id": "7d580f93",
   "metadata": {},
   "source": [
    "https://juyeon-studing.notion.site/CHAPTER-04-ef9920a99e754c099e1bbe286bb190bc"
   ]
  }
 ],
 "metadata": {
  "kernelspec": {
   "display_name": "Python [conda env:root] *",
   "language": "python",
   "name": "conda-root-py"
  },
  "language_info": {
   "codemirror_mode": {
    "name": "ipython",
    "version": 3
   },
   "file_extension": ".py",
   "mimetype": "text/x-python",
   "name": "python",
   "nbconvert_exporter": "python",
   "pygments_lexer": "ipython3",
   "version": "3.8.8"
  }
 },
 "nbformat": 4,
 "nbformat_minor": 5
}
