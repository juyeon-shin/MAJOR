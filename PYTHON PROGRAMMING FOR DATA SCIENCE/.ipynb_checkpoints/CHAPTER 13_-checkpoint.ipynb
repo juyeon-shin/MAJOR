{
 "cells": [
  {
   "cell_type": "code",
   "execution_count": 63,
   "id": "862988ab",
   "metadata": {},
   "outputs": [
    {
     "ename": "SyntaxError",
     "evalue": "invalid syntax (Temp/ipykernel_9168/951797400.py, line 5)",
     "output_type": "error",
     "traceback": [
      "\u001b[1;36m  File \u001b[1;32m\"C:\\Users\\juyeo\\AppData\\Local\\Temp/ipykernel_9168/951797400.py\"\u001b[1;36m, line \u001b[1;32m5\u001b[0m\n\u001b[1;33m    conda install lxml\u001b[0m\n\u001b[1;37m          ^\u001b[0m\n\u001b[1;31mSyntaxError\u001b[0m\u001b[1;31m:\u001b[0m invalid syntax\n"
     ]
    }
   ],
   "source": [
    "!pip install selenium\n",
    "!pip install bs4\n",
    "!pip install --upgrade setuptools\n",
    "!pip install lxml \n",
    "!pip install newspaper3k"
   ]
  },
  {
   "cell_type": "code",
   "execution_count": 64,
   "id": "2c68e642",
   "metadata": {},
   "outputs": [
    {
     "name": "stdout",
     "output_type": "stream",
     "text": [
      "Collecting package metadata (current_repodata.json): ...working... done\n",
      "Solving environment: ...working... done\n",
      "\n",
      "## Package Plan ##\n",
      "\n",
      "  environment location: C:\\Users\\juyeo\\anaconda3\n",
      "\n",
      "  added / updated specs:\n",
      "    - lxml\n",
      "Note: you may need to restart the kernel to use updated packages.\n",
      "\n",
      "\n",
      "The following packages will be downloaded:\n",
      "\n",
      "    package                    |            build\n",
      "    ---------------------------|-----------------\n",
      "    certifi-2021.10.8          |   py38haa244fe_2         146 KB  conda-forge\n",
      "    conda-4.12.0               |   py38haa244fe_0         1.0 MB  conda-forge\n",
      "    jinja2-3.1.1               |     pyhd8ed1ab_0          99 KB  conda-forge\n",
      "    libxslt-1.1.33             |       h34f844d_4         504 KB  conda-forge\n",
      "    lxml-4.8.0                 |   py38h294d835_2         1.1 MB  conda-forge\n",
      "    openssl-1.1.1n             |       h8ffe710_0         5.7 MB  conda-forge\n"
     ]
    },
    {
     "name": "stderr",
     "output_type": "stream",
     "text": [
      "\n",
      "The environment is inconsistent, please check the package plan carefully\n",
      "The following packages are causing the inconsistency:\n",
      "\n",
      "  - defaults/win-64::conda-build==3.21.4=py38haa95532_0\n",
      "  - defaults/noarch::conda-verify==3.4.2=py_1\n",
      "  - conda-forge/noarch::ipywidgets==7.6.5=pyhd8ed1ab_0\n",
      "  - conda-forge/noarch::jinja2==2.11.3=pyh44b312d_0\n",
      "  - conda-forge/noarch::jupyterlab==3.2.4=pyhd8ed1ab_0\n",
      "  - conda-forge/noarch::jupyterlab_server==2.8.2=pyhd8ed1ab_0\n",
      "  - conda-forge/noarch::jupyter_server==1.12.1=pyhd8ed1ab_0\n",
      "  - conda-forge/noarch::nbclassic==0.3.4=pyhd8ed1ab_0\n",
      "  - conda-forge/win-64::nbconvert==6.3.0=py38haa244fe_1\n",
      "  - conda-forge/win-64::nb_conda==2.2.1=py38haa244fe_4\n",
      "  - conda-forge/noarch::notebook==6.4.6=pyha770c72_0\n",
      "  - conda-forge/win-64::widgetsnbextension==3.5.2=py38haa244fe_1\n",
      "  - defaults/win-64::_ipyw_jlab_nb_ext_conf==0.1.0=py38_0\n"
     ]
    },
    {
     "name": "stdout",
     "output_type": "stream",
     "text": [
      "\n",
      "    ------------------------------------------------------------\n",
      "                                           Total:         8.5 MB\n",
      "\n",
      "The following NEW packages will be INSTALLED:\n",
      "\n",
      "  libxslt            conda-forge/win-64::libxslt-1.1.33-h34f844d_4\n",
      "  lxml               conda-forge/win-64::lxml-4.8.0-py38h294d835_2\n",
      "\n",
      "The following packages will be UPDATED:\n",
      "\n",
      "  certifi                          2021.10.8-py38haa244fe_1 --> 2021.10.8-py38haa244fe_2\n",
      "  conda                               4.11.0-py38haa244fe_0 --> 4.12.0-py38haa244fe_0\n",
      "  jinja2                                2.11.3-pyh44b312d_0 --> 3.1.1-pyhd8ed1ab_0\n",
      "  openssl                                 1.1.1l-h8ffe710_0 --> 1.1.1n-h8ffe710_0\n",
      "\n",
      "\n",
      "\n",
      "Downloading and Extracting Packages\n",
      "\n",
      "conda-4.12.0         | 1.0 MB    |            |   0% \n",
      "conda-4.12.0         | 1.0 MB    | 6          |   6% \n",
      "conda-4.12.0         | 1.0 MB    | ##9        |  29% \n",
      "conda-4.12.0         | 1.0 MB    | #####2     |  53% \n",
      "conda-4.12.0         | 1.0 MB    | #######6   |  76% \n",
      "conda-4.12.0         | 1.0 MB    | #########7 |  98% \n",
      "conda-4.12.0         | 1.0 MB    | ########## | 100% \n",
      "\n",
      "certifi-2021.10.8    | 146 KB    |            |   0% \n",
      "certifi-2021.10.8    | 146 KB    | ########## | 100% \n",
      "certifi-2021.10.8    | 146 KB    | ########## | 100% \n",
      "\n",
      "libxslt-1.1.33       | 504 KB    |            |   0% \n",
      "libxslt-1.1.33       | 504 KB    | #5         |  16% \n",
      "libxslt-1.1.33       | 504 KB    | ######     |  60% \n",
      "libxslt-1.1.33       | 504 KB    | ########## | 100% \n",
      "libxslt-1.1.33       | 504 KB    | ########## | 100% \n",
      "\n",
      "lxml-4.8.0           | 1.1 MB    |            |   0% \n",
      "lxml-4.8.0           | 1.1 MB    | 1          |   1% \n",
      "lxml-4.8.0           | 1.1 MB    | ##5        |  25% \n",
      "lxml-4.8.0           | 1.1 MB    | ####7      |  47% \n",
      "lxml-4.8.0           | 1.1 MB    | #######6   |  77% \n",
      "lxml-4.8.0           | 1.1 MB    | ########## | 100% \n",
      "lxml-4.8.0           | 1.1 MB    | ########## | 100% \n",
      "\n",
      "openssl-1.1.1n       | 5.7 MB    |            |   0% \n",
      "openssl-1.1.1n       | 5.7 MB    | 1          |   1% \n",
      "openssl-1.1.1n       | 5.7 MB    | 6          |   7% \n",
      "openssl-1.1.1n       | 5.7 MB    | #1         |  12% \n",
      "openssl-1.1.1n       | 5.7 MB    | #5         |  16% \n",
      "openssl-1.1.1n       | 5.7 MB    | #9         |  20% \n",
      "openssl-1.1.1n       | 5.7 MB    | ##3        |  24% \n",
      "openssl-1.1.1n       | 5.7 MB    | ##7        |  27% \n",
      "openssl-1.1.1n       | 5.7 MB    | ###1       |  31% \n",
      "openssl-1.1.1n       | 5.7 MB    | ###4       |  35% \n",
      "openssl-1.1.1n       | 5.7 MB    | ###8       |  38% \n",
      "openssl-1.1.1n       | 5.7 MB    | ####2      |  43% \n",
      "openssl-1.1.1n       | 5.7 MB    | ####7      |  48% \n",
      "openssl-1.1.1n       | 5.7 MB    | #####3     |  53% \n",
      "openssl-1.1.1n       | 5.7 MB    | #####8     |  58% \n",
      "openssl-1.1.1n       | 5.7 MB    | ######3    |  64% \n",
      "openssl-1.1.1n       | 5.7 MB    | ######9    |  69% \n",
      "openssl-1.1.1n       | 5.7 MB    | #######5   |  76% \n",
      "openssl-1.1.1n       | 5.7 MB    | ########3  |  83% \n",
      "openssl-1.1.1n       | 5.7 MB    | ########9  |  90% \n",
      "openssl-1.1.1n       | 5.7 MB    | #########6 |  96% \n",
      "openssl-1.1.1n       | 5.7 MB    | ########## | 100% \n",
      "\n",
      "jinja2-3.1.1         | 99 KB     |            |   0% \n",
      "jinja2-3.1.1         | 99 KB     | ########## | 100% \n",
      "jinja2-3.1.1         | 99 KB     | ########## | 100% \n",
      "Preparing transaction: ...working... done\n",
      "Verifying transaction: ...working... done\n",
      "Executing transaction: ...working... done\n"
     ]
    }
   ],
   "source": [
    "conda install lxml"
   ]
  },
  {
   "cell_type": "code",
   "execution_count": 65,
   "id": "80ef3f6a",
   "metadata": {},
   "outputs": [],
   "source": [
    "import requests\n",
    "from selenium import webdriver\n",
    "import time\n",
    "from bs4 import BeautifulSoup\n",
    "import urllib.parse\n",
    "import re\n",
    "import csv"
   ]
  },
  {
   "cell_type": "code",
   "execution_count": 66,
   "id": "9bd07dda",
   "metadata": {},
   "outputs": [],
   "source": [
    "def get_news_links(page_num, link_pattern):\n",
    "    links = []\n",
    "    for page in range(page_num):\n",
    "        print(f\"Scrapping page: {page+1}\") # 확인용\n",
    "        req = requests.get(f\"{URL}&start={10*page+1}\"); print(req.status_code)\n",
    "        soup = BeautifulSoup(req.text, 'lxml')\n",
    "        results = soup.find_all('a', {'href': re.compile(link_pattern)})\n",
    "        for result in results:\n",
    "            links.append(result['href'])\n",
    "    print(f\"총 {len(links)}개의 뉴스 링크를 찾았습니다.\") # 확인용\n",
    "    return links"
   ]
  },
  {
   "cell_type": "markdown",
   "id": "d2f5a11f",
   "metadata": {},
   "source": [
    "https://search.naver.com/search.naver?where=news&ie=utf8&sm=nws_hty&query=%EC%BD%94%EB%A1%9C%EB%82%98\n",
    "https://search.naver.com/search.naver?where=news&{search_QUERY}&sm=tab_opt&sort=0&photo=0&field=0&pd=3&ds=2022.03.01&de=2022.05.02&docid=&related=0&mynews=0&office_type=0&office_section_code=0&news_office_checked=&nso=so%3Ar%2Cp%3Afrom20220301to20220502&is_sug_officeid=0"
   ]
  },
  {
   "cell_type": "code",
   "execution_count": 67,
   "id": "7dccdea8",
   "metadata": {},
   "outputs": [],
   "source": [
    "QUERY = \"동작구 상권\" # 키워드\n",
    "search_QUERY = urllib.parse.urlencode({'query':QUERY}, encoding='utf-8')\n",
    "URL = \"https://search.naver.com/search.naver?&where=news&{search_QUERY}&sm=tab_pge&sort=0&photo=0&field=0&reporter_article=&pd=3&ds=2020.05.01&de=2022.04.30&docid=&nso=so:r,p:from20210101to20220501,a:all&mynews=0\"\n",
    "# 기간 설정\n",
    "# url 날짜 변경 &pd=3&ds=2021.01.01&de=2021.03.31&docid=&nso=so:r,p:from20210101to20210331 \n",
    "# ds(시작날짜), de(끝나는날짜), from(시작날짜), to(끝나는날짜)\n",
    "\n",
    "LINK_PAT = \"https:\\/\\/news\\.naver\\.com\\/main\\/read\\.nhn\\?\"\n",
    "search_PAGE = 2 # 최대 400 (한페이지당 12)"
   ]
  },
  {
   "cell_type": "code",
   "execution_count": 68,
   "id": "29f12b90",
   "metadata": {},
   "outputs": [],
   "source": [
    "def extract_info(url, wait_time=1, delay_time=0.3):\n",
    "    driver.implicitly_wait(wait_time)\n",
    "    driver.get(url)\n",
    "\n",
    "    # html 페이지 읽어오기\n",
    "    html = driver.page_source\n",
    "    soup = BeautifulSoup(html, 'lxml')\n",
    "    \n",
    "    try:\n",
    "        \n",
    "        title = soup.find('h3', {'id':'articleTitle'}).get_text(strip=True)\n",
    "        \n",
    "        contents = soup.find_all(\"div\", {\"class\":\"_article_body_contents\"})\n",
    "        contents = [content.text for content in contents]\n",
    "        \n",
    "        print(\"완료\", end=' ') # 확인용\n",
    "        return {'site':url, 'title':title, 'contents':contents}\n",
    "\n",
    "    except:\n",
    "        print(\"오류\", end=' ')\n",
    "        return {'site':None, 'title':None, 'contents':None}\n",
    "    \n",
    "# 각 페이지 돌면서 스크레이핑\n",
    "\n",
    "def extract_contents(links):\n",
    "    contents = []\n",
    "    a = 1\n",
    "    for link in links:\n",
    "        content = extract_info(f\"{link}\") # 각 링크에 대해 extract_info함수 추출\n",
    "        print(a)\n",
    "        contents.append(content) # 결과 저장\n",
    "        a += 1\n",
    "    return contents"
   ]
  },
  {
   "cell_type": "code",
   "execution_count": 69,
   "id": "c126ffd6",
   "metadata": {},
   "outputs": [],
   "source": [
    "def save_to_file(lst):\n",
    "    file = open(\"C:/Users/juyeo/Desktop/news_contents_Naver.csv\", mode=\"w\", encoding=\"utf-8-sig\")\n",
    "    # file 저장 주소 변경 -> 결과 csv 파일 저장 경로\n",
    "    writer = csv.writer(file)\n",
    "    writer.writerow(['site', 'title', 'contents'])\n",
    "    for result in lst:\n",
    "        writer.writerow(list(result.values()))\n",
    "    file.close()\n",
    "    return"
   ]
  },
  {
   "cell_type": "code",
   "execution_count": 70,
   "id": "03a0491c",
   "metadata": {},
   "outputs": [],
   "source": [
    "# main 함수\n",
    "\n",
    "def main():\n",
    "    last_page = search_PAGE\n",
    "    news_links = get_news_links(search_PAGE, LINK_PAT)\n",
    "    result = extract_contents(news_links)\n",
    "    driver.quit()\n",
    "    return result"
   ]
  },
  {
   "cell_type": "code",
   "execution_count": 71,
   "id": "0b19e4c6",
   "metadata": {
    "collapsed": true
   },
   "outputs": [
    {
     "name": "stdout",
     "output_type": "stream",
     "text": [
      "Scrapping page: 1\n",
      "200\n"
     ]
    },
    {
     "ename": "FeatureNotFound",
     "evalue": "Couldn't find a tree builder with the features you requested: lxml. Do you need to install a parser library?",
     "output_type": "error",
     "traceback": [
      "\u001b[1;31m---------------------------------------------------------------------------\u001b[0m",
      "\u001b[1;31mFeatureNotFound\u001b[0m                           Traceback (most recent call last)",
      "\u001b[1;32m~\\AppData\\Local\\Temp/ipykernel_9168/3696029216.py\u001b[0m in \u001b[0;36m<module>\u001b[1;34m\u001b[0m\n\u001b[0;32m      2\u001b[0m \u001b[0mdriver\u001b[0m \u001b[1;33m=\u001b[0m \u001b[0mwebdriver\u001b[0m\u001b[1;33m.\u001b[0m\u001b[0mChrome\u001b[0m\u001b[1;33m(\u001b[0m\u001b[0mpath\u001b[0m\u001b[1;33m)\u001b[0m\u001b[1;33m\u001b[0m\u001b[1;33m\u001b[0m\u001b[0m\n\u001b[0;32m      3\u001b[0m \u001b[1;33m\u001b[0m\u001b[0m\n\u001b[1;32m----> 4\u001b[1;33m \u001b[0mNAVER_RESULT\u001b[0m \u001b[1;33m=\u001b[0m \u001b[0mmain\u001b[0m\u001b[1;33m(\u001b[0m\u001b[1;33m)\u001b[0m\u001b[1;33m\u001b[0m\u001b[1;33m\u001b[0m\u001b[0m\n\u001b[0m\u001b[0;32m      5\u001b[0m \u001b[0msave_to_file\u001b[0m\u001b[1;33m(\u001b[0m\u001b[0mNAVER_RESULT\u001b[0m\u001b[1;33m)\u001b[0m\u001b[1;33m\u001b[0m\u001b[1;33m\u001b[0m\u001b[0m\n",
      "\u001b[1;32m~\\AppData\\Local\\Temp/ipykernel_9168/2685640800.py\u001b[0m in \u001b[0;36mmain\u001b[1;34m()\u001b[0m\n\u001b[0;32m      3\u001b[0m \u001b[1;32mdef\u001b[0m \u001b[0mmain\u001b[0m\u001b[1;33m(\u001b[0m\u001b[1;33m)\u001b[0m\u001b[1;33m:\u001b[0m\u001b[1;33m\u001b[0m\u001b[1;33m\u001b[0m\u001b[0m\n\u001b[0;32m      4\u001b[0m     \u001b[0mlast_page\u001b[0m \u001b[1;33m=\u001b[0m \u001b[0msearch_PAGE\u001b[0m\u001b[1;33m\u001b[0m\u001b[1;33m\u001b[0m\u001b[0m\n\u001b[1;32m----> 5\u001b[1;33m     \u001b[0mnews_links\u001b[0m \u001b[1;33m=\u001b[0m \u001b[0mget_news_links\u001b[0m\u001b[1;33m(\u001b[0m\u001b[0msearch_PAGE\u001b[0m\u001b[1;33m,\u001b[0m \u001b[0mLINK_PAT\u001b[0m\u001b[1;33m)\u001b[0m\u001b[1;33m\u001b[0m\u001b[1;33m\u001b[0m\u001b[0m\n\u001b[0m\u001b[0;32m      6\u001b[0m     \u001b[0mresult\u001b[0m \u001b[1;33m=\u001b[0m \u001b[0mextract_contents\u001b[0m\u001b[1;33m(\u001b[0m\u001b[0mnews_links\u001b[0m\u001b[1;33m)\u001b[0m\u001b[1;33m\u001b[0m\u001b[1;33m\u001b[0m\u001b[0m\n\u001b[0;32m      7\u001b[0m     \u001b[0mdriver\u001b[0m\u001b[1;33m.\u001b[0m\u001b[0mquit\u001b[0m\u001b[1;33m(\u001b[0m\u001b[1;33m)\u001b[0m\u001b[1;33m\u001b[0m\u001b[1;33m\u001b[0m\u001b[0m\n",
      "\u001b[1;32m~\\AppData\\Local\\Temp/ipykernel_9168/3634727737.py\u001b[0m in \u001b[0;36mget_news_links\u001b[1;34m(page_num, link_pattern)\u001b[0m\n\u001b[0;32m      4\u001b[0m         \u001b[0mprint\u001b[0m\u001b[1;33m(\u001b[0m\u001b[1;34mf\"Scrapping page: {page+1}\"\u001b[0m\u001b[1;33m)\u001b[0m \u001b[1;31m# 확인용\u001b[0m\u001b[1;33m\u001b[0m\u001b[1;33m\u001b[0m\u001b[0m\n\u001b[0;32m      5\u001b[0m         \u001b[0mreq\u001b[0m \u001b[1;33m=\u001b[0m \u001b[0mrequests\u001b[0m\u001b[1;33m.\u001b[0m\u001b[0mget\u001b[0m\u001b[1;33m(\u001b[0m\u001b[1;34mf\"{URL}&start={10*page+1}\"\u001b[0m\u001b[1;33m)\u001b[0m\u001b[1;33m;\u001b[0m \u001b[0mprint\u001b[0m\u001b[1;33m(\u001b[0m\u001b[0mreq\u001b[0m\u001b[1;33m.\u001b[0m\u001b[0mstatus_code\u001b[0m\u001b[1;33m)\u001b[0m\u001b[1;33m\u001b[0m\u001b[1;33m\u001b[0m\u001b[0m\n\u001b[1;32m----> 6\u001b[1;33m         \u001b[0msoup\u001b[0m \u001b[1;33m=\u001b[0m \u001b[0mBeautifulSoup\u001b[0m\u001b[1;33m(\u001b[0m\u001b[0mreq\u001b[0m\u001b[1;33m.\u001b[0m\u001b[0mtext\u001b[0m\u001b[1;33m,\u001b[0m \u001b[1;34m'lxml'\u001b[0m\u001b[1;33m)\u001b[0m\u001b[1;33m\u001b[0m\u001b[1;33m\u001b[0m\u001b[0m\n\u001b[0m\u001b[0;32m      7\u001b[0m         \u001b[0mresults\u001b[0m \u001b[1;33m=\u001b[0m \u001b[0msoup\u001b[0m\u001b[1;33m.\u001b[0m\u001b[0mfind_all\u001b[0m\u001b[1;33m(\u001b[0m\u001b[1;34m'a'\u001b[0m\u001b[1;33m,\u001b[0m \u001b[1;33m{\u001b[0m\u001b[1;34m'href'\u001b[0m\u001b[1;33m:\u001b[0m \u001b[0mre\u001b[0m\u001b[1;33m.\u001b[0m\u001b[0mcompile\u001b[0m\u001b[1;33m(\u001b[0m\u001b[0mlink_pattern\u001b[0m\u001b[1;33m)\u001b[0m\u001b[1;33m}\u001b[0m\u001b[1;33m)\u001b[0m\u001b[1;33m\u001b[0m\u001b[1;33m\u001b[0m\u001b[0m\n\u001b[0;32m      8\u001b[0m         \u001b[1;32mfor\u001b[0m \u001b[0mresult\u001b[0m \u001b[1;32min\u001b[0m \u001b[0mresults\u001b[0m\u001b[1;33m:\u001b[0m\u001b[1;33m\u001b[0m\u001b[1;33m\u001b[0m\u001b[0m\n",
      "\u001b[1;32m~\\anaconda3\\lib\\site-packages\\bs4\\__init__.py\u001b[0m in \u001b[0;36m__init__\u001b[1;34m(self, markup, features, builder, parse_only, from_encoding, exclude_encodings, element_classes, **kwargs)\u001b[0m\n\u001b[0;32m    243\u001b[0m             \u001b[0mbuilder_class\u001b[0m \u001b[1;33m=\u001b[0m \u001b[0mbuilder_registry\u001b[0m\u001b[1;33m.\u001b[0m\u001b[0mlookup\u001b[0m\u001b[1;33m(\u001b[0m\u001b[1;33m*\u001b[0m\u001b[0mfeatures\u001b[0m\u001b[1;33m)\u001b[0m\u001b[1;33m\u001b[0m\u001b[1;33m\u001b[0m\u001b[0m\n\u001b[0;32m    244\u001b[0m             \u001b[1;32mif\u001b[0m \u001b[0mbuilder_class\u001b[0m \u001b[1;32mis\u001b[0m \u001b[1;32mNone\u001b[0m\u001b[1;33m:\u001b[0m\u001b[1;33m\u001b[0m\u001b[1;33m\u001b[0m\u001b[0m\n\u001b[1;32m--> 245\u001b[1;33m                 raise FeatureNotFound(\n\u001b[0m\u001b[0;32m    246\u001b[0m                     \u001b[1;34m\"Couldn't find a tree builder with the features you \"\u001b[0m\u001b[1;33m\u001b[0m\u001b[1;33m\u001b[0m\u001b[0m\n\u001b[0;32m    247\u001b[0m                     \u001b[1;34m\"requested: %s. Do you need to install a parser library?\"\u001b[0m\u001b[1;33m\u001b[0m\u001b[1;33m\u001b[0m\u001b[0m\n",
      "\u001b[1;31mFeatureNotFound\u001b[0m: Couldn't find a tree builder with the features you requested: lxml. Do you need to install a parser library?"
     ]
    }
   ],
   "source": [
    "path = \"C:/chromedriver_win32/chromedriver.exe\" # 크롬 드라이버 경로 (본인 크롬 드라이브 저장되어 있는 경로로 변경)\n",
    "driver = webdriver.Chrome(path)\n",
    "\n",
    "NAVER_RESULT = main()\n",
    "save_to_file(NAVER_RESULT)"
   ]
  },
  {
   "cell_type": "code",
   "execution_count": 37,
   "id": "90219f6c",
   "metadata": {},
   "outputs": [],
   "source": [
    "import newspaper\n",
    "from newspaper import Article"
   ]
  },
  {
   "cell_type": "code",
   "execution_count": 38,
   "id": "af850a87",
   "metadata": {},
   "outputs": [],
   "source": [
    "article = Article('https://view.asiae.co.kr/article/2022050210060953606')\n",
    "article.download()\n"
   ]
  },
  {
   "cell_type": "code",
   "execution_count": 40,
   "id": "87012cb7",
   "metadata": {},
   "outputs": [],
   "source": [
    "article.parse()"
   ]
  },
  {
   "cell_type": "code",
   "execution_count": 43,
   "id": "38ee6ed6",
   "metadata": {
    "scrolled": true
   },
   "outputs": [
    {
     "data": {
      "text/plain": [
       "'위중증·재택치료자도 줄어\\n\\n실외 마스크 제한 해제 첫날인 2일 경기 성남 판교벤처타운 인근에서 한 직장인이 마스크를 벗고 출근길에 오르고 있다./성남=강진형 기자aymsdream@ 썝蹂몃낫湲 븘씠肄\\n\\n실외 마스크 의무가 해제된 첫날 코로나19 하루 신규 확진자 수가 3개월 만에 2만명대로 줄었다.\\n\\n중앙방역대책본부는 2일 0시 기준으로 신규 확진자가 2만84명 늘어 총 누적 확진자 수는 1729만5733명으로 집계됐다고 밝혔다. 일일 신규 확진자가 2만명대를 기록한 것은 지난 2월4일(2만7436명) 이후 87일 만이다. 숫자상으론 2월1일(1만8336명) 이후 가장 적은 규모다.\\n\\n오미크론 유행이 안정세로 돌아서면서 일일 신규 확진자는 지난달 21일(9만851명)부터 12일째 10만명 미만을 기록했다. 월요일 발표 기준 확진자 수도 매주 감소해 한 주 전인 지난달 25일(3만4361명)보다 1만4277명, 2주 전인 지난달 18일(4만7730명)보다는 2만7646명 적었다.\\n\\n입원 중인 위중증 환자는 461명으로 전날(493명)보다 32명 감소했다. 위중증 환자 수는 오미크론 유행 이후 지난 3월 말 하루 최대 1300명대까지 치솟았다가 지난달 중순 이후 1000명 아래로 떨어진 후 지속적으로 줄어들었다. 방역당국과 연구기관들은 주간 평균 위중증 환자 수가 이달 첫째 주 이후에 500명 미만에 그치고, 이달 셋째 주 후에는 300명대까지 내려갈 것으로 내다보고 있다.\\n\\n자택에 머무는 재택치료자는 31만9777명으로 전날(36만1741명)보다 4만1964명 적었다. 재택치료 관리의료기관의 건강 모니터링을 받는 집중관리군은 2만8809명이며, 나머지는 자택에서 스스로 건강을 관리하고 있다. 코로나19 사망자는 83명으로 사흘 연속 100명을 밑돌았다.\\n\\n감염병 전문가들은 현재 백신 접종이나 코로나19 자연감염으로 형성된 면역이 유행 감소를 주도하고 있어 야외 마스크 해제가 유행에 미칠 영향은 그리 크지 않을 것으로 보고 있다. 김우주 고려대 구로병원 감염내과 교수는 \"이미 코로나19 감염병 등급을 2급으로 하향 조정하고 격리 의무마저 해제한 상태에서 더 이상 실외 마스크는 과학적 근거가 없다\"고 지적했다. 다만 실외 마스크 해제가 실내 마스크 착용까지 소홀하게 하는 등 방역 전반이 느슨해질 가능성은 남아있다.\\n\\n조인경 기자 ikjo@asiae.co.kr'"
      ]
     },
     "execution_count": 43,
     "metadata": {},
     "output_type": "execute_result"
    }
   ],
   "source": [
    "article.text"
   ]
  },
  {
   "cell_type": "code",
   "execution_count": 48,
   "id": "261087ce",
   "metadata": {},
   "outputs": [
    {
     "name": "stdout",
     "output_type": "stream",
     "text": [
      "\"실외 마스크 벗은 날\" … 코로나 신규확진 3개월만에 2만명대\n",
      "https://view.asiae.co.kr/article/2022050210060953606\n"
     ]
    },
    {
     "ename": "AttributeError",
     "evalue": "'Article' object has no attribute 'Authors'",
     "output_type": "error",
     "traceback": [
      "\u001b[1;31m---------------------------------------------------------------------------\u001b[0m",
      "\u001b[1;31mAttributeError\u001b[0m                            Traceback (most recent call last)",
      "\u001b[1;32m~\\AppData\\Local\\Temp/ipykernel_9168/2399650678.py\u001b[0m in \u001b[0;36m<module>\u001b[1;34m\u001b[0m\n\u001b[0;32m      1\u001b[0m \u001b[0mprint\u001b[0m\u001b[1;33m(\u001b[0m\u001b[0marticle\u001b[0m\u001b[1;33m.\u001b[0m\u001b[0mtitle\u001b[0m\u001b[1;33m)\u001b[0m\u001b[1;33m\u001b[0m\u001b[1;33m\u001b[0m\u001b[0m\n\u001b[0;32m      2\u001b[0m \u001b[0mprint\u001b[0m\u001b[1;33m(\u001b[0m\u001b[0marticle\u001b[0m\u001b[1;33m.\u001b[0m\u001b[0murl\u001b[0m\u001b[1;33m)\u001b[0m\u001b[1;33m\u001b[0m\u001b[1;33m\u001b[0m\u001b[0m\n\u001b[1;32m----> 3\u001b[1;33m \u001b[0mprint\u001b[0m\u001b[1;33m(\u001b[0m\u001b[0marticle\u001b[0m\u001b[1;33m.\u001b[0m\u001b[0mAuthors\u001b[0m\u001b[1;33m)\u001b[0m\u001b[1;33m\u001b[0m\u001b[1;33m\u001b[0m\u001b[0m\n\u001b[0m",
      "\u001b[1;31mAttributeError\u001b[0m: 'Article' object has no attribute 'Authors'"
     ]
    }
   ],
   "source": [
    "print(article.title)\n",
    "print(article.url)\n",
    "print(article.Authors)"
   ]
  },
  {
   "cell_type": "code",
   "execution_count": null,
   "id": "3e3299ab",
   "metadata": {},
   "outputs": [],
   "source": []
  }
 ],
 "metadata": {
  "kernelspec": {
   "display_name": "Python 3 (ipykernel)",
   "language": "python",
   "name": "python3"
  },
  "language_info": {
   "codemirror_mode": {
    "name": "ipython",
    "version": 3
   },
   "file_extension": ".py",
   "mimetype": "text/x-python",
   "name": "python",
   "nbconvert_exporter": "python",
   "pygments_lexer": "ipython3",
   "version": "3.8.8"
  }
 },
 "nbformat": 4,
 "nbformat_minor": 5
}
