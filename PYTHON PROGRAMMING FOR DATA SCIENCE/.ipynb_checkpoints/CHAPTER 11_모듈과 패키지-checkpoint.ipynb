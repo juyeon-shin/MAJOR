{
 "cells": [
  {
   "cell_type": "code",
   "execution_count": 3,
   "id": "4ae43801",
   "metadata": {},
   "outputs": [
    {
     "name": "stdout",
     "output_type": "stream",
     "text": [
      "<http.client.HTTPResponse object at 0x000001F65E8BA0A0>\n"
     ]
    }
   ],
   "source": [
    "import urllib.request as ulr\n",
    "respone = ulr.urlopen('http://github.com')\n",
    "print(respone)"
   ]
  },
  {
   "cell_type": "code",
   "execution_count": null,
   "id": "c049e9fc",
   "metadata": {},
   "outputs": [],
   "source": []
  }
 ],
 "metadata": {
  "kernelspec": {
   "display_name": "Python 3 (ipykernel)",
   "language": "python",
   "name": "python3"
  },
  "language_info": {
   "codemirror_mode": {
    "name": "ipython",
    "version": 3
   },
   "file_extension": ".py",
   "mimetype": "text/x-python",
   "name": "python",
   "nbconvert_exporter": "python",
   "pygments_lexer": "ipython3",
   "version": "3.8.8"
  }
 },
 "nbformat": 4,
 "nbformat_minor": 5
}
