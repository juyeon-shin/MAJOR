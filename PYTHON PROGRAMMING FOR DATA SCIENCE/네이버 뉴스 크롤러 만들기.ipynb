{
 "cells": [
  {
   "cell_type": "markdown",
   "id": "e92a6e14",
   "metadata": {},
   "source": [
    "## 네이버 뉴스 크롤러 만들기\n",
    "\n",
    "+ 참고\n",
    "    https://zetawiki.com/wiki/%ED%8C%8C%EC%9D%B4%EC%8D%AC_%EB%84%A4%EC%9D%B4%EB%B2%84_%EB%89%B4%EC%8A%A4_%EC%8A%A4%ED%81%AC%EB%9E%98%ED%95%91_%EC%8B%9C%EC%9E%91%ED%95%98%EA%B8%B0"
   ]
  },
  {
   "cell_type": "markdown",
   "id": "f471ed2f",
   "metadata": {},
   "source": []
  },
  {
   "cell_type": "markdown",
   "id": "290d3a95",
   "metadata": {},
   "source": []
  },
  {
   "cell_type": "markdown",
   "id": "a2bab60e",
   "metadata": {},
   "source": []
  },
  {
   "cell_type": "markdown",
   "id": "0dcf59b6",
   "metadata": {},
   "source": []
  }
 ],
 "metadata": {
  "kernelspec": {
   "display_name": "Python 3 (ipykernel)",
   "language": "python",
   "name": "python3"
  },
  "language_info": {
   "codemirror_mode": {
    "name": "ipython",
    "version": 3
   },
   "file_extension": ".py",
   "mimetype": "text/x-python",
   "name": "python",
   "nbconvert_exporter": "python",
   "pygments_lexer": "ipython3",
   "version": "3.8.8"
  }
 },
 "nbformat": 4,
 "nbformat_minor": 5
}
